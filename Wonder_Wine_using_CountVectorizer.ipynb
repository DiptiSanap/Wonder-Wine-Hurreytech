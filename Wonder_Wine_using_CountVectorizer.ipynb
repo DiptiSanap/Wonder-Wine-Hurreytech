{
  "nbformat": 4,
  "nbformat_minor": 0,
  "metadata": {
    "colab": {
      "provenance": []
    },
    "kernelspec": {
      "name": "python3",
      "display_name": "Python 3"
    },
    "language_info": {
      "name": "python"
    }
  },
  "cells": [
    {
      "cell_type": "markdown",
      "source": [
        "# **Table of Contents**\n",
        "## 1. Loading the Dataset\n",
        "\n",
        "## 2. Pre-processing the Dataset\n",
        "\n",
        "## 3. Feature Engineering and Data cleaning\n",
        "\n",
        "## 4. Model Building\n",
        "\n",
        "## 5. Model Performance Evaluation\n",
        "\n",
        "## 6. Custom prediction\n",
        "\n",
        "## 7. Prediction using test.csv\n"
      ],
      "metadata": {
        "id": "el_G9qb638wJ"
      }
    },
    {
      "cell_type": "code",
      "execution_count": 1,
      "metadata": {
        "colab": {
          "base_uri": "https://localhost:8080/"
        },
        "id": "ktefjL6w63YW",
        "outputId": "d396c091-8dfc-44ca-bec5-fd5c6ba4ec02"
      },
      "outputs": [
        {
          "output_type": "stream",
          "name": "stdout",
          "text": [
            "Drive already mounted at /content/drive; to attempt to forcibly remount, call drive.mount(\"/content/drive\", force_remount=True).\n"
          ]
        }
      ],
      "source": [
        "from google.colab import drive\n",
        "drive.mount('/content/drive')"
      ]
    },
    {
      "cell_type": "markdown",
      "source": [
        "**Importing Libraries**"
      ],
      "metadata": {
        "id": "6Y3QUt3IKL5i"
      }
    },
    {
      "cell_type": "code",
      "source": [
        "import pandas as pd\n",
        "import numpy as np\n",
        "import re\n",
        "import string\n",
        "from nltk.corpus import stopwords\n",
        "from nltk.stem import WordNetLemmatizer\n",
        "from sklearn.feature_extraction.text import CountVectorizer\n",
        "from sklearn.preprocessing import LabelEncoder"
      ],
      "metadata": {
        "id": "BymThZX97G07"
      },
      "execution_count": 2,
      "outputs": []
    },
    {
      "cell_type": "markdown",
      "source": [
        "**Loading dataset from Drive**"
      ],
      "metadata": {
        "id": "OOsZIfRXKSH1"
      }
    },
    {
      "cell_type": "code",
      "source": [
        "data=pd.read_csv(\"/content/drive/MyDrive/train.csv\")"
      ],
      "metadata": {
        "id": "te49FqUf7nFT"
      },
      "execution_count": 3,
      "outputs": []
    },
    {
      "cell_type": "markdown",
      "source": [
        "**Data Analysis**"
      ],
      "metadata": {
        "id": "gA1mOOFUKdlI"
      }
    },
    {
      "cell_type": "code",
      "source": [
        "# Display the number of rows and columns\n",
        "print(\"Shape of the dataset:\", data.shape)"
      ],
      "metadata": {
        "colab": {
          "base_uri": "https://localhost:8080/"
        },
        "id": "5qf2k_ymKZPw",
        "outputId": "f0015bce-d4b6-4ed9-986e-e447dfb77f13"
      },
      "execution_count": 4,
      "outputs": [
        {
          "output_type": "stream",
          "name": "stdout",
          "text": [
            "Shape of the dataset: (82657, 12)\n"
          ]
        }
      ]
    },
    {
      "cell_type": "code",
      "source": [
        "data.head(3)"
      ],
      "metadata": {
        "colab": {
          "base_uri": "https://localhost:8080/",
          "height": 239
        },
        "id": "Hr0ajG6UKZhU",
        "outputId": "1ca1de03-6e77-4162-cd4f-6e622da083a1"
      },
      "execution_count": 5,
      "outputs": [
        {
          "output_type": "execute_result",
          "data": {
            "text/plain": [
              "       user_name    country  \\\n",
              "0            NaN  Australia   \n",
              "1  @wawinereport         US   \n",
              "2            NaN      Italy   \n",
              "\n",
              "                                        review_title  \\\n",
              "0  Andrew Peace 2007 Peace Family Vineyard Chardo...   \n",
              "1  North by Northwest 2014 Red (Columbia Valley (...   \n",
              "2                  Renato Ratti 2007 Conca  (Barolo)   \n",
              "\n",
              "                                  review_description            designation  \\\n",
              "0  Classic Chardonnay aromas of apple, pear and h...  Peace Family Vineyard   \n",
              "1  This wine is near equal parts Syrah and Merlot...                    NaN   \n",
              "2  Barolo Conca opens with inky dark concentratio...                  Conca   \n",
              "\n",
              "   points  price         province                 region_1         region_2  \\\n",
              "0      83   10.0  Australia Other  South Eastern Australia              NaN   \n",
              "1      89   15.0       Washington     Columbia Valley (WA)  Columbia Valley   \n",
              "2      94   80.0         Piedmont                   Barolo              NaN   \n",
              "\n",
              "               winery     variety  \n",
              "0        Andrew Peace  Chardonnay  \n",
              "1  North by Northwest   Red Blend  \n",
              "2        Renato Ratti    Nebbiolo  "
            ],
            "text/html": [
              "\n",
              "\n",
              "  <div id=\"df-f608bf73-b113-4568-b323-dadb07bfb7d2\">\n",
              "    <div class=\"colab-df-container\">\n",
              "      <div>\n",
              "<style scoped>\n",
              "    .dataframe tbody tr th:only-of-type {\n",
              "        vertical-align: middle;\n",
              "    }\n",
              "\n",
              "    .dataframe tbody tr th {\n",
              "        vertical-align: top;\n",
              "    }\n",
              "\n",
              "    .dataframe thead th {\n",
              "        text-align: right;\n",
              "    }\n",
              "</style>\n",
              "<table border=\"1\" class=\"dataframe\">\n",
              "  <thead>\n",
              "    <tr style=\"text-align: right;\">\n",
              "      <th></th>\n",
              "      <th>user_name</th>\n",
              "      <th>country</th>\n",
              "      <th>review_title</th>\n",
              "      <th>review_description</th>\n",
              "      <th>designation</th>\n",
              "      <th>points</th>\n",
              "      <th>price</th>\n",
              "      <th>province</th>\n",
              "      <th>region_1</th>\n",
              "      <th>region_2</th>\n",
              "      <th>winery</th>\n",
              "      <th>variety</th>\n",
              "    </tr>\n",
              "  </thead>\n",
              "  <tbody>\n",
              "    <tr>\n",
              "      <th>0</th>\n",
              "      <td>NaN</td>\n",
              "      <td>Australia</td>\n",
              "      <td>Andrew Peace 2007 Peace Family Vineyard Chardo...</td>\n",
              "      <td>Classic Chardonnay aromas of apple, pear and h...</td>\n",
              "      <td>Peace Family Vineyard</td>\n",
              "      <td>83</td>\n",
              "      <td>10.0</td>\n",
              "      <td>Australia Other</td>\n",
              "      <td>South Eastern Australia</td>\n",
              "      <td>NaN</td>\n",
              "      <td>Andrew Peace</td>\n",
              "      <td>Chardonnay</td>\n",
              "    </tr>\n",
              "    <tr>\n",
              "      <th>1</th>\n",
              "      <td>@wawinereport</td>\n",
              "      <td>US</td>\n",
              "      <td>North by Northwest 2014 Red (Columbia Valley (...</td>\n",
              "      <td>This wine is near equal parts Syrah and Merlot...</td>\n",
              "      <td>NaN</td>\n",
              "      <td>89</td>\n",
              "      <td>15.0</td>\n",
              "      <td>Washington</td>\n",
              "      <td>Columbia Valley (WA)</td>\n",
              "      <td>Columbia Valley</td>\n",
              "      <td>North by Northwest</td>\n",
              "      <td>Red Blend</td>\n",
              "    </tr>\n",
              "    <tr>\n",
              "      <th>2</th>\n",
              "      <td>NaN</td>\n",
              "      <td>Italy</td>\n",
              "      <td>Renato Ratti 2007 Conca  (Barolo)</td>\n",
              "      <td>Barolo Conca opens with inky dark concentratio...</td>\n",
              "      <td>Conca</td>\n",
              "      <td>94</td>\n",
              "      <td>80.0</td>\n",
              "      <td>Piedmont</td>\n",
              "      <td>Barolo</td>\n",
              "      <td>NaN</td>\n",
              "      <td>Renato Ratti</td>\n",
              "      <td>Nebbiolo</td>\n",
              "    </tr>\n",
              "  </tbody>\n",
              "</table>\n",
              "</div>\n",
              "      <button class=\"colab-df-convert\" onclick=\"convertToInteractive('df-f608bf73-b113-4568-b323-dadb07bfb7d2')\"\n",
              "              title=\"Convert this dataframe to an interactive table.\"\n",
              "              style=\"display:none;\">\n",
              "\n",
              "  <svg xmlns=\"http://www.w3.org/2000/svg\" height=\"24px\"viewBox=\"0 0 24 24\"\n",
              "       width=\"24px\">\n",
              "    <path d=\"M0 0h24v24H0V0z\" fill=\"none\"/>\n",
              "    <path d=\"M18.56 5.44l.94 2.06.94-2.06 2.06-.94-2.06-.94-.94-2.06-.94 2.06-2.06.94zm-11 1L8.5 8.5l.94-2.06 2.06-.94-2.06-.94L8.5 2.5l-.94 2.06-2.06.94zm10 10l.94 2.06.94-2.06 2.06-.94-2.06-.94-.94-2.06-.94 2.06-2.06.94z\"/><path d=\"M17.41 7.96l-1.37-1.37c-.4-.4-.92-.59-1.43-.59-.52 0-1.04.2-1.43.59L10.3 9.45l-7.72 7.72c-.78.78-.78 2.05 0 2.83L4 21.41c.39.39.9.59 1.41.59.51 0 1.02-.2 1.41-.59l7.78-7.78 2.81-2.81c.8-.78.8-2.07 0-2.86zM5.41 20L4 18.59l7.72-7.72 1.47 1.35L5.41 20z\"/>\n",
              "  </svg>\n",
              "      </button>\n",
              "\n",
              "\n",
              "\n",
              "    <div id=\"df-88deaaca-81f9-4a97-8278-67c2776403d9\">\n",
              "      <button class=\"colab-df-quickchart\" onclick=\"quickchart('df-88deaaca-81f9-4a97-8278-67c2776403d9')\"\n",
              "              title=\"Suggest charts.\"\n",
              "              style=\"display:none;\">\n",
              "\n",
              "<svg xmlns=\"http://www.w3.org/2000/svg\" height=\"24px\"viewBox=\"0 0 24 24\"\n",
              "     width=\"24px\">\n",
              "    <g>\n",
              "        <path d=\"M19 3H5c-1.1 0-2 .9-2 2v14c0 1.1.9 2 2 2h14c1.1 0 2-.9 2-2V5c0-1.1-.9-2-2-2zM9 17H7v-7h2v7zm4 0h-2V7h2v10zm4 0h-2v-4h2v4z\"/>\n",
              "    </g>\n",
              "</svg>\n",
              "      </button>\n",
              "    </div>\n",
              "\n",
              "<style>\n",
              "  .colab-df-quickchart {\n",
              "    background-color: #E8F0FE;\n",
              "    border: none;\n",
              "    border-radius: 50%;\n",
              "    cursor: pointer;\n",
              "    display: none;\n",
              "    fill: #1967D2;\n",
              "    height: 32px;\n",
              "    padding: 0 0 0 0;\n",
              "    width: 32px;\n",
              "  }\n",
              "\n",
              "  .colab-df-quickchart:hover {\n",
              "    background-color: #E2EBFA;\n",
              "    box-shadow: 0px 1px 2px rgba(60, 64, 67, 0.3), 0px 1px 3px 1px rgba(60, 64, 67, 0.15);\n",
              "    fill: #174EA6;\n",
              "  }\n",
              "\n",
              "  [theme=dark] .colab-df-quickchart {\n",
              "    background-color: #3B4455;\n",
              "    fill: #D2E3FC;\n",
              "  }\n",
              "\n",
              "  [theme=dark] .colab-df-quickchart:hover {\n",
              "    background-color: #434B5C;\n",
              "    box-shadow: 0px 1px 3px 1px rgba(0, 0, 0, 0.15);\n",
              "    filter: drop-shadow(0px 1px 2px rgba(0, 0, 0, 0.3));\n",
              "    fill: #FFFFFF;\n",
              "  }\n",
              "</style>\n",
              "\n",
              "    <script>\n",
              "      async function quickchart(key) {\n",
              "        const containerElement = document.querySelector('#' + key);\n",
              "        const charts = await google.colab.kernel.invokeFunction(\n",
              "            'suggestCharts', [key], {});\n",
              "      }\n",
              "    </script>\n",
              "\n",
              "      <script>\n",
              "\n",
              "function displayQuickchartButton(domScope) {\n",
              "  let quickchartButtonEl =\n",
              "    domScope.querySelector('#df-88deaaca-81f9-4a97-8278-67c2776403d9 button.colab-df-quickchart');\n",
              "  quickchartButtonEl.style.display =\n",
              "    google.colab.kernel.accessAllowed ? 'block' : 'none';\n",
              "}\n",
              "\n",
              "        displayQuickchartButton(document);\n",
              "      </script>\n",
              "      <style>\n",
              "    .colab-df-container {\n",
              "      display:flex;\n",
              "      flex-wrap:wrap;\n",
              "      gap: 12px;\n",
              "    }\n",
              "\n",
              "    .colab-df-convert {\n",
              "      background-color: #E8F0FE;\n",
              "      border: none;\n",
              "      border-radius: 50%;\n",
              "      cursor: pointer;\n",
              "      display: none;\n",
              "      fill: #1967D2;\n",
              "      height: 32px;\n",
              "      padding: 0 0 0 0;\n",
              "      width: 32px;\n",
              "    }\n",
              "\n",
              "    .colab-df-convert:hover {\n",
              "      background-color: #E2EBFA;\n",
              "      box-shadow: 0px 1px 2px rgba(60, 64, 67, 0.3), 0px 1px 3px 1px rgba(60, 64, 67, 0.15);\n",
              "      fill: #174EA6;\n",
              "    }\n",
              "\n",
              "    [theme=dark] .colab-df-convert {\n",
              "      background-color: #3B4455;\n",
              "      fill: #D2E3FC;\n",
              "    }\n",
              "\n",
              "    [theme=dark] .colab-df-convert:hover {\n",
              "      background-color: #434B5C;\n",
              "      box-shadow: 0px 1px 3px 1px rgba(0, 0, 0, 0.15);\n",
              "      filter: drop-shadow(0px 1px 2px rgba(0, 0, 0, 0.3));\n",
              "      fill: #FFFFFF;\n",
              "    }\n",
              "  </style>\n",
              "\n",
              "      <script>\n",
              "        const buttonEl =\n",
              "          document.querySelector('#df-f608bf73-b113-4568-b323-dadb07bfb7d2 button.colab-df-convert');\n",
              "        buttonEl.style.display =\n",
              "          google.colab.kernel.accessAllowed ? 'block' : 'none';\n",
              "\n",
              "        async function convertToInteractive(key) {\n",
              "          const element = document.querySelector('#df-f608bf73-b113-4568-b323-dadb07bfb7d2');\n",
              "          const dataTable =\n",
              "            await google.colab.kernel.invokeFunction('convertToInteractive',\n",
              "                                                     [key], {});\n",
              "          if (!dataTable) return;\n",
              "\n",
              "          const docLinkHtml = 'Like what you see? Visit the ' +\n",
              "            '<a target=\"_blank\" href=https://colab.research.google.com/notebooks/data_table.ipynb>data table notebook</a>'\n",
              "            + ' to learn more about interactive tables.';\n",
              "          element.innerHTML = '';\n",
              "          dataTable['output_type'] = 'display_data';\n",
              "          await google.colab.output.renderOutput(dataTable, element);\n",
              "          const docLink = document.createElement('div');\n",
              "          docLink.innerHTML = docLinkHtml;\n",
              "          element.appendChild(docLink);\n",
              "        }\n",
              "      </script>\n",
              "    </div>\n",
              "  </div>\n"
            ]
          },
          "metadata": {},
          "execution_count": 5
        }
      ]
    },
    {
      "cell_type": "code",
      "source": [
        "# Columns\n",
        "data.columns"
      ],
      "metadata": {
        "colab": {
          "base_uri": "https://localhost:8080/"
        },
        "id": "EOD8y5HOTyVR",
        "outputId": "d3c92f44-2a62-4be9-a11a-ae94dbc5f27d"
      },
      "execution_count": 6,
      "outputs": [
        {
          "output_type": "execute_result",
          "data": {
            "text/plain": [
              "Index(['user_name', 'country', 'review_title', 'review_description',\n",
              "       'designation', 'points', 'price', 'province', 'region_1', 'region_2',\n",
              "       'winery', 'variety'],\n",
              "      dtype='object')"
            ]
          },
          "metadata": {},
          "execution_count": 6
        }
      ]
    },
    {
      "cell_type": "code",
      "source": [
        "# View data types of each column\n",
        "print(\"\\nData types:\")\n",
        "print(data.dtypes)"
      ],
      "metadata": {
        "colab": {
          "base_uri": "https://localhost:8080/"
        },
        "id": "cIM1jUmPYmFE",
        "outputId": "aff83213-70f6-46fb-e950-151e3f977b8b"
      },
      "execution_count": 7,
      "outputs": [
        {
          "output_type": "stream",
          "name": "stdout",
          "text": [
            "\n",
            "Data types:\n",
            "user_name              object\n",
            "country                object\n",
            "review_title           object\n",
            "review_description     object\n",
            "designation            object\n",
            "points                  int64\n",
            "price                 float64\n",
            "province               object\n",
            "region_1               object\n",
            "region_2               object\n",
            "winery                 object\n",
            "variety                object\n",
            "dtype: object\n"
          ]
        }
      ]
    },
    {
      "cell_type": "code",
      "source": [
        "# View Null values\n",
        "data.isnull().sum()"
      ],
      "metadata": {
        "colab": {
          "base_uri": "https://localhost:8080/"
        },
        "id": "2ZlPpI1hTyfT",
        "outputId": "3ec70a6c-a475-4cd2-9017-f7279dfff3cb"
      },
      "execution_count": 8,
      "outputs": [
        {
          "output_type": "execute_result",
          "data": {
            "text/plain": [
              "user_name             19393\n",
              "country                  35\n",
              "review_title              0\n",
              "review_description        0\n",
              "designation           23647\n",
              "points                    0\n",
              "price                  5569\n",
              "province                 35\n",
              "region_1              12754\n",
              "region_2              46708\n",
              "winery                    0\n",
              "variety                   0\n",
              "dtype: int64"
            ]
          },
          "metadata": {},
          "execution_count": 8
        }
      ]
    },
    {
      "cell_type": "markdown",
      "source": [
        "**Handling missing values:**\n",
        "\n",
        "* It was observed that certain columns, namely user_name, region_1, region_2, and\n",
        "designation, contain a substantial number of missing values. Moreover, these columns are not deemed highly relevant for classification.So we will drop them.\n",
        "\n",
        "* In 'country' and 'province', there are less no. of missing values so we can drop them without loosing effective information.\n",
        "\n",
        "* We will fill the missing values in 'price' column using mean."
      ],
      "metadata": {
        "id": "FT6RCHpbWT1l"
      }
    },
    {
      "cell_type": "code",
      "source": [
        "# Drop columns with a large number of missing values\n",
        "data.drop(columns=[\"user_name\", \"region_1\", \"region_2\",\"country\", \"province\"], inplace=True)\n",
        "\n",
        "# Drop rows with missing values in the \"variety\" column\n",
        "data.dropna(subset=[\"variety\"], inplace=True)\n",
        "data.dropna(subset=[\"designation\"], inplace=True)\n",
        "\n",
        "# Fill missing values in \"price\" column with the mean value\n",
        "data[\"price\"].fillna(data[\"price\"].mean(), inplace=True)\n"
      ],
      "metadata": {
        "id": "xVWKWHtuUQie"
      },
      "execution_count": 9,
      "outputs": []
    },
    {
      "cell_type": "code",
      "source": [
        "data.isnull().sum()"
      ],
      "metadata": {
        "colab": {
          "base_uri": "https://localhost:8080/"
        },
        "id": "MYlInlyaY1D2",
        "outputId": "533191fa-2e92-43e4-9b5f-f6a90d97d75d"
      },
      "execution_count": 10,
      "outputs": [
        {
          "output_type": "execute_result",
          "data": {
            "text/plain": [
              "review_title          0\n",
              "review_description    0\n",
              "designation           0\n",
              "points                0\n",
              "price                 0\n",
              "winery                0\n",
              "variety               0\n",
              "dtype: int64"
            ]
          },
          "metadata": {},
          "execution_count": 10
        }
      ]
    },
    {
      "cell_type": "code",
      "source": [
        "# Check value count for each class\n",
        "data['variety'].value_counts()"
      ],
      "metadata": {
        "colab": {
          "base_uri": "https://localhost:8080/"
        },
        "id": "1JZdLKzdKZ1W",
        "outputId": "2c1ec11d-447d-419b-f208-318c86cb7328"
      },
      "execution_count": 11,
      "outputs": [
        {
          "output_type": "execute_result",
          "data": {
            "text/plain": [
              "Pinot Noir                    7924\n",
              "Chardonnay                    6271\n",
              "Red Blend                     6000\n",
              "Cabernet Sauvignon            4635\n",
              "Riesling                      3511\n",
              "Bordeaux-style Red Blend      2913\n",
              "Syrah                         2454\n",
              "Sauvignon Blanc               2312\n",
              "Rosé                          1981\n",
              "Portuguese Red                1836\n",
              "Nebbiolo                      1791\n",
              "Sparkling Blend               1705\n",
              "Zinfandel                     1667\n",
              "White Blend                   1663\n",
              "Malbec                        1607\n",
              "Merlot                        1290\n",
              "Sangiovese                    1235\n",
              "Tempranillo                   1171\n",
              "Champagne Blend               1131\n",
              "Rhône-style Red Blend          964\n",
              "Grüner Veltliner               935\n",
              "Portuguese White               835\n",
              "Cabernet Franc                 683\n",
              "Pinot Gris                     644\n",
              "Gamay                          610\n",
              "Gewürztraminer                 586\n",
              "Bordeaux-style White Blend     336\n",
              "Pinot Grigio                   320\n",
              "Name: variety, dtype: int64"
            ]
          },
          "metadata": {},
          "execution_count": 11
        }
      ]
    },
    {
      "cell_type": "markdown",
      "source": [
        "**Insight:**\n",
        "\n",
        "**Class Imbalance**: The class distribution shows a considerable disparity in the number of samples for each wine variety. Some varieties like \"Pinot Noir,\" \"Chardonnay,\" and \"Red Blend\" have a large number of occurrences, while others like \"Bordeaux-style White Blend,\" \"Pinot Grigio,\" and \"Gewürztraminer\" have significantly fewer occurrences.\n",
        "\n",
        "**Impact on Classification:**The model might become biased towards predicting the majority classes, leading to lower accuracy, precision, recall, and F1 scores for the minority classes.\n",
        "\n",
        "To address this issue and improve the classification model's performance, it is essential to balance the dataset using appropriate balancing techniques. Some common techniques include:\n",
        "\n",
        "**Oversampling:** Generating synthetic samples for minority classes to increase their representation in the dataset. This can be done using methods like SMOTE (Synthetic Minority Over-sampling Technique).\n",
        "\n",
        "**Undersampling:** Randomly removing samples from the majority classes to reduce their dominance in the dataset. This can help balance the class distribution.\n",
        "\n",
        "**Class Weighting:**Assigning higher weights to the minority classes during model training. This allows the model to give more importance to the minority classes while learning.\n",
        "\n",
        "**Ensemble Methods:** Using ensemble techniques like Random Forest or boosting algorithms like AdaBoost can help handle imbalanced data effectively.\n",
        "\n",
        "Among these techniques I used undersampling and Ensemble method (Random Forest) . Let's first try using undersampling method."
      ],
      "metadata": {
        "id": "zp93kCOTZxgY"
      }
    },
    {
      "cell_type": "code",
      "source": [
        "df1 = data.groupby('variety').apply(lambda x: x.sample(500, replace=True) if len(x) > 500 else x)\n",
        "#df1=data"
      ],
      "metadata": {
        "id": "fs16LxN97vyR"
      },
      "execution_count": 12,
      "outputs": []
    },
    {
      "cell_type": "markdown",
      "source": [
        "**Undersampling :**\n",
        " Here we groups the data by the \"variety\" column and then applies a lambda function to each group. The lambda function samples 500 rows from each group if the group size is greater than 500, and if the group size is less than or equal to 500, it keeps all the rows in that group.  This makes our data balanced.\n",
        "\n",
        " **Note**\n",
        " If you want to perform Enseble method for balancing, then comment in the line\n",
        "  df1 = data.groupby('variety').apply(lambda x: x.sample(500, replace=True) if len(x) > 500 else x)\n",
        "\n",
        "  and comment out df1=data, so you don't need to do lots of changes in further code."
      ],
      "metadata": {
        "id": "R44KFvG9ir97"
      }
    },
    {
      "cell_type": "code",
      "source": [
        "df1['variety'].value_counts()"
      ],
      "metadata": {
        "colab": {
          "base_uri": "https://localhost:8080/"
        },
        "id": "F0a71KVZiMHq",
        "outputId": "6d37f9ee-4356-4fe5-e1ee-ad73e42e9e86"
      },
      "execution_count": 13,
      "outputs": [
        {
          "output_type": "execute_result",
          "data": {
            "text/plain": [
              "Bordeaux-style Red Blend      500\n",
              "Portuguese Red                500\n",
              "White Blend                   500\n",
              "Tempranillo                   500\n",
              "Syrah                         500\n",
              "Sparkling Blend               500\n",
              "Sauvignon Blanc               500\n",
              "Sangiovese                    500\n",
              "Rosé                          500\n",
              "Riesling                      500\n",
              "Rhône-style Red Blend         500\n",
              "Red Blend                     500\n",
              "Portuguese White              500\n",
              "Pinot Noir                    500\n",
              "Pinot Gris                    500\n",
              "Nebbiolo                      500\n",
              "Merlot                        500\n",
              "Malbec                        500\n",
              "Grüner Veltliner              500\n",
              "Gewürztraminer                500\n",
              "Gamay                         500\n",
              "Chardonnay                    500\n",
              "Champagne Blend               500\n",
              "Cabernet Sauvignon            500\n",
              "Cabernet Franc                500\n",
              "Zinfandel                     500\n",
              "Bordeaux-style White Blend    336\n",
              "Pinot Grigio                  320\n",
              "Name: variety, dtype: int64"
            ]
          },
          "metadata": {},
          "execution_count": 13
        }
      ]
    },
    {
      "cell_type": "code",
      "source": [
        "df1.shape,data.shape"
      ],
      "metadata": {
        "colab": {
          "base_uri": "https://localhost:8080/"
        },
        "id": "fQVhUkRga1b7",
        "outputId": "19471a9d-32e8-4dfa-82a7-45169b44cfa0"
      },
      "execution_count": 14,
      "outputs": [
        {
          "output_type": "execute_result",
          "data": {
            "text/plain": [
              "((13656, 7), (59010, 7))"
            ]
          },
          "metadata": {},
          "execution_count": 14
        }
      ]
    },
    {
      "cell_type": "markdown",
      "source": [
        "**Creating new dataframe:**\n",
        "\n",
        "For review classification, we need text data. In our dataset we have two columns 'review_title' and 'review_description' which contains most of the information. To avoid loosing information by selecting just one of them, we will concate them(in df2) and create a new dataframe (final_df)."
      ],
      "metadata": {
        "id": "Y1k6kwZIlV2E"
      }
    },
    {
      "cell_type": "code",
      "source": [
        "df2=df1['review_title']+ df1['review_description']"
      ],
      "metadata": {
        "id": "dYJwMy2A8BLO"
      },
      "execution_count": 15,
      "outputs": []
    },
    {
      "cell_type": "code",
      "source": [
        "final_df=pd.DataFrame({'text':df2,'variety':df1['variety']})"
      ],
      "metadata": {
        "id": "w2IEr0Iw8kOB"
      },
      "execution_count": 16,
      "outputs": []
    },
    {
      "cell_type": "code",
      "source": [
        "final_df.head()"
      ],
      "metadata": {
        "colab": {
          "base_uri": "https://localhost:8080/",
          "height": 237
        },
        "id": "UnpsUO8c8uOC",
        "outputId": "60bfed44-6284-4287-a2e5-b8856c3f6be7"
      },
      "execution_count": 17,
      "outputs": [
        {
          "output_type": "execute_result",
          "data": {
            "text/plain": [
              "                                                                             text  \\\n",
              "variety                                                                             \n",
              "Bordeaux-style Red Blend 11190  Château Peyrabon 2010 Barrel sample  (Haut-Méd...   \n",
              "                         77250  Cooper-Garrod 2012 Test Pilot F6F Hellcat Red ...   \n",
              "                         26870  Cadence 2011 Tapteil Vineyard Red (Red Mountai...   \n",
              "                         31698  Château Bouscaut 2009 Barrel sample  (Pessac-L...   \n",
              "                         4295   Babich 2011 The Patriarch Premium Red (Hawke's...   \n",
              "\n",
              "                                                 variety  \n",
              "variety                                                   \n",
              "Bordeaux-style Red Blend 11190  Bordeaux-style Red Blend  \n",
              "                         77250  Bordeaux-style Red Blend  \n",
              "                         26870  Bordeaux-style Red Blend  \n",
              "                         31698  Bordeaux-style Red Blend  \n",
              "                         4295   Bordeaux-style Red Blend  "
            ],
            "text/html": [
              "\n",
              "\n",
              "  <div id=\"df-90a48f0d-310f-41f2-b69e-de69b3c8ba9f\">\n",
              "    <div class=\"colab-df-container\">\n",
              "      <div>\n",
              "<style scoped>\n",
              "    .dataframe tbody tr th:only-of-type {\n",
              "        vertical-align: middle;\n",
              "    }\n",
              "\n",
              "    .dataframe tbody tr th {\n",
              "        vertical-align: top;\n",
              "    }\n",
              "\n",
              "    .dataframe thead th {\n",
              "        text-align: right;\n",
              "    }\n",
              "</style>\n",
              "<table border=\"1\" class=\"dataframe\">\n",
              "  <thead>\n",
              "    <tr style=\"text-align: right;\">\n",
              "      <th></th>\n",
              "      <th></th>\n",
              "      <th>text</th>\n",
              "      <th>variety</th>\n",
              "    </tr>\n",
              "    <tr>\n",
              "      <th>variety</th>\n",
              "      <th></th>\n",
              "      <th></th>\n",
              "      <th></th>\n",
              "    </tr>\n",
              "  </thead>\n",
              "  <tbody>\n",
              "    <tr>\n",
              "      <th rowspan=\"5\" valign=\"top\">Bordeaux-style Red Blend</th>\n",
              "      <th>11190</th>\n",
              "      <td>Château Peyrabon 2010 Barrel sample  (Haut-Méd...</td>\n",
              "      <td>Bordeaux-style Red Blend</td>\n",
              "    </tr>\n",
              "    <tr>\n",
              "      <th>77250</th>\n",
              "      <td>Cooper-Garrod 2012 Test Pilot F6F Hellcat Red ...</td>\n",
              "      <td>Bordeaux-style Red Blend</td>\n",
              "    </tr>\n",
              "    <tr>\n",
              "      <th>26870</th>\n",
              "      <td>Cadence 2011 Tapteil Vineyard Red (Red Mountai...</td>\n",
              "      <td>Bordeaux-style Red Blend</td>\n",
              "    </tr>\n",
              "    <tr>\n",
              "      <th>31698</th>\n",
              "      <td>Château Bouscaut 2009 Barrel sample  (Pessac-L...</td>\n",
              "      <td>Bordeaux-style Red Blend</td>\n",
              "    </tr>\n",
              "    <tr>\n",
              "      <th>4295</th>\n",
              "      <td>Babich 2011 The Patriarch Premium Red (Hawke's...</td>\n",
              "      <td>Bordeaux-style Red Blend</td>\n",
              "    </tr>\n",
              "  </tbody>\n",
              "</table>\n",
              "</div>\n",
              "      <button class=\"colab-df-convert\" onclick=\"convertToInteractive('df-90a48f0d-310f-41f2-b69e-de69b3c8ba9f')\"\n",
              "              title=\"Convert this dataframe to an interactive table.\"\n",
              "              style=\"display:none;\">\n",
              "\n",
              "  <svg xmlns=\"http://www.w3.org/2000/svg\" height=\"24px\"viewBox=\"0 0 24 24\"\n",
              "       width=\"24px\">\n",
              "    <path d=\"M0 0h24v24H0V0z\" fill=\"none\"/>\n",
              "    <path d=\"M18.56 5.44l.94 2.06.94-2.06 2.06-.94-2.06-.94-.94-2.06-.94 2.06-2.06.94zm-11 1L8.5 8.5l.94-2.06 2.06-.94-2.06-.94L8.5 2.5l-.94 2.06-2.06.94zm10 10l.94 2.06.94-2.06 2.06-.94-2.06-.94-.94-2.06-.94 2.06-2.06.94z\"/><path d=\"M17.41 7.96l-1.37-1.37c-.4-.4-.92-.59-1.43-.59-.52 0-1.04.2-1.43.59L10.3 9.45l-7.72 7.72c-.78.78-.78 2.05 0 2.83L4 21.41c.39.39.9.59 1.41.59.51 0 1.02-.2 1.41-.59l7.78-7.78 2.81-2.81c.8-.78.8-2.07 0-2.86zM5.41 20L4 18.59l7.72-7.72 1.47 1.35L5.41 20z\"/>\n",
              "  </svg>\n",
              "      </button>\n",
              "\n",
              "\n",
              "\n",
              "    <div id=\"df-2923e045-1635-4a74-99ff-86afbf31b2b2\">\n",
              "      <button class=\"colab-df-quickchart\" onclick=\"quickchart('df-2923e045-1635-4a74-99ff-86afbf31b2b2')\"\n",
              "              title=\"Suggest charts.\"\n",
              "              style=\"display:none;\">\n",
              "\n",
              "<svg xmlns=\"http://www.w3.org/2000/svg\" height=\"24px\"viewBox=\"0 0 24 24\"\n",
              "     width=\"24px\">\n",
              "    <g>\n",
              "        <path d=\"M19 3H5c-1.1 0-2 .9-2 2v14c0 1.1.9 2 2 2h14c1.1 0 2-.9 2-2V5c0-1.1-.9-2-2-2zM9 17H7v-7h2v7zm4 0h-2V7h2v10zm4 0h-2v-4h2v4z\"/>\n",
              "    </g>\n",
              "</svg>\n",
              "      </button>\n",
              "    </div>\n",
              "\n",
              "<style>\n",
              "  .colab-df-quickchart {\n",
              "    background-color: #E8F0FE;\n",
              "    border: none;\n",
              "    border-radius: 50%;\n",
              "    cursor: pointer;\n",
              "    display: none;\n",
              "    fill: #1967D2;\n",
              "    height: 32px;\n",
              "    padding: 0 0 0 0;\n",
              "    width: 32px;\n",
              "  }\n",
              "\n",
              "  .colab-df-quickchart:hover {\n",
              "    background-color: #E2EBFA;\n",
              "    box-shadow: 0px 1px 2px rgba(60, 64, 67, 0.3), 0px 1px 3px 1px rgba(60, 64, 67, 0.15);\n",
              "    fill: #174EA6;\n",
              "  }\n",
              "\n",
              "  [theme=dark] .colab-df-quickchart {\n",
              "    background-color: #3B4455;\n",
              "    fill: #D2E3FC;\n",
              "  }\n",
              "\n",
              "  [theme=dark] .colab-df-quickchart:hover {\n",
              "    background-color: #434B5C;\n",
              "    box-shadow: 0px 1px 3px 1px rgba(0, 0, 0, 0.15);\n",
              "    filter: drop-shadow(0px 1px 2px rgba(0, 0, 0, 0.3));\n",
              "    fill: #FFFFFF;\n",
              "  }\n",
              "</style>\n",
              "\n",
              "    <script>\n",
              "      async function quickchart(key) {\n",
              "        const containerElement = document.querySelector('#' + key);\n",
              "        const charts = await google.colab.kernel.invokeFunction(\n",
              "            'suggestCharts', [key], {});\n",
              "      }\n",
              "    </script>\n",
              "\n",
              "      <script>\n",
              "\n",
              "function displayQuickchartButton(domScope) {\n",
              "  let quickchartButtonEl =\n",
              "    domScope.querySelector('#df-2923e045-1635-4a74-99ff-86afbf31b2b2 button.colab-df-quickchart');\n",
              "  quickchartButtonEl.style.display =\n",
              "    google.colab.kernel.accessAllowed ? 'block' : 'none';\n",
              "}\n",
              "\n",
              "        displayQuickchartButton(document);\n",
              "      </script>\n",
              "      <style>\n",
              "    .colab-df-container {\n",
              "      display:flex;\n",
              "      flex-wrap:wrap;\n",
              "      gap: 12px;\n",
              "    }\n",
              "\n",
              "    .colab-df-convert {\n",
              "      background-color: #E8F0FE;\n",
              "      border: none;\n",
              "      border-radius: 50%;\n",
              "      cursor: pointer;\n",
              "      display: none;\n",
              "      fill: #1967D2;\n",
              "      height: 32px;\n",
              "      padding: 0 0 0 0;\n",
              "      width: 32px;\n",
              "    }\n",
              "\n",
              "    .colab-df-convert:hover {\n",
              "      background-color: #E2EBFA;\n",
              "      box-shadow: 0px 1px 2px rgba(60, 64, 67, 0.3), 0px 1px 3px 1px rgba(60, 64, 67, 0.15);\n",
              "      fill: #174EA6;\n",
              "    }\n",
              "\n",
              "    [theme=dark] .colab-df-convert {\n",
              "      background-color: #3B4455;\n",
              "      fill: #D2E3FC;\n",
              "    }\n",
              "\n",
              "    [theme=dark] .colab-df-convert:hover {\n",
              "      background-color: #434B5C;\n",
              "      box-shadow: 0px 1px 3px 1px rgba(0, 0, 0, 0.15);\n",
              "      filter: drop-shadow(0px 1px 2px rgba(0, 0, 0, 0.3));\n",
              "      fill: #FFFFFF;\n",
              "    }\n",
              "  </style>\n",
              "\n",
              "      <script>\n",
              "        const buttonEl =\n",
              "          document.querySelector('#df-90a48f0d-310f-41f2-b69e-de69b3c8ba9f button.colab-df-convert');\n",
              "        buttonEl.style.display =\n",
              "          google.colab.kernel.accessAllowed ? 'block' : 'none';\n",
              "\n",
              "        async function convertToInteractive(key) {\n",
              "          const element = document.querySelector('#df-90a48f0d-310f-41f2-b69e-de69b3c8ba9f');\n",
              "          const dataTable =\n",
              "            await google.colab.kernel.invokeFunction('convertToInteractive',\n",
              "                                                     [key], {});\n",
              "          if (!dataTable) return;\n",
              "\n",
              "          const docLinkHtml = 'Like what you see? Visit the ' +\n",
              "            '<a target=\"_blank\" href=https://colab.research.google.com/notebooks/data_table.ipynb>data table notebook</a>'\n",
              "            + ' to learn more about interactive tables.';\n",
              "          element.innerHTML = '';\n",
              "          dataTable['output_type'] = 'display_data';\n",
              "          await google.colab.output.renderOutput(dataTable, element);\n",
              "          const docLink = document.createElement('div');\n",
              "          docLink.innerHTML = docLinkHtml;\n",
              "          element.appendChild(docLink);\n",
              "        }\n",
              "      </script>\n",
              "    </div>\n",
              "  </div>\n"
            ]
          },
          "metadata": {},
          "execution_count": 17
        }
      ]
    },
    {
      "cell_type": "markdown",
      "source": [
        "**Data Cleaning and Preprocessing:**"
      ],
      "metadata": {
        "id": "C3XiFJgF8_kD"
      }
    },
    {
      "cell_type": "code",
      "source": [
        "# Convert text to lowercase\n",
        "final_df['text'] = final_df['text'].str.lower()"
      ],
      "metadata": {
        "id": "y4HrwJM89EuT"
      },
      "execution_count": 18,
      "outputs": []
    },
    {
      "cell_type": "code",
      "source": [
        "# Remove punctuation\n",
        "def remove_punctuation(text):\n",
        "    return text.translate(str.maketrans('', '', string.punctuation))\n",
        "\n",
        "final_df['text'] =final_df['text'].apply(remove_punctuation)"
      ],
      "metadata": {
        "id": "_nWJaN2Z9Sxy"
      },
      "execution_count": 19,
      "outputs": []
    },
    {
      "cell_type": "code",
      "source": [
        "# Remove numbers\n",
        "def remove_numbers(text):\n",
        "    return re.sub(r'\\d+', '', text)\n",
        "\n",
        "final_df['text'] = final_df['text'].apply(remove_numbers)"
      ],
      "metadata": {
        "id": "OlPxmpdd9e-H"
      },
      "execution_count": 20,
      "outputs": []
    },
    {
      "cell_type": "code",
      "source": [
        "# Tokenize the text (split into words)\n",
        "final_df['text'] = final_df['text'].apply(lambda x: x.split())"
      ],
      "metadata": {
        "id": "JVdgV5Z99kEF"
      },
      "execution_count": 21,
      "outputs": []
    },
    {
      "cell_type": "code",
      "source": [
        "import nltk\n",
        "nltk.download('stopwords')"
      ],
      "metadata": {
        "colab": {
          "base_uri": "https://localhost:8080/"
        },
        "id": "9qYdkAkY9_ZG",
        "outputId": "abef4c3c-7a1e-4c08-8220-9dd4f97bbd13"
      },
      "execution_count": 22,
      "outputs": [
        {
          "output_type": "stream",
          "name": "stderr",
          "text": [
            "[nltk_data] Downloading package stopwords to /root/nltk_data...\n",
            "[nltk_data]   Package stopwords is already up-to-date!\n"
          ]
        },
        {
          "output_type": "execute_result",
          "data": {
            "text/plain": [
              "True"
            ]
          },
          "metadata": {},
          "execution_count": 22
        }
      ]
    },
    {
      "cell_type": "code",
      "source": [
        "# Remove stopwords\n",
        "stop_words = set(stopwords.words('english'))\n",
        "final_df['text'] = final_df['text'].apply(lambda x: [word for word in x if word not in stop_words])"
      ],
      "metadata": {
        "id": "Yf1-KrcA9w3s"
      },
      "execution_count": 23,
      "outputs": []
    },
    {
      "cell_type": "code",
      "source": [
        "# Lemmatization\n",
        "nltk.download('wordnet')\n",
        "lemmatizer = WordNetLemmatizer()\n",
        "final_df['text'] = final_df['text'].apply(lambda x: [lemmatizer.lemmatize(word) for word in x])"
      ],
      "metadata": {
        "colab": {
          "base_uri": "https://localhost:8080/"
        },
        "id": "NGX4SxEH92Fw",
        "outputId": "e49ff620-7efc-44ab-b53f-724e2e5717ab"
      },
      "execution_count": 24,
      "outputs": [
        {
          "output_type": "stream",
          "name": "stderr",
          "text": [
            "[nltk_data] Downloading package wordnet to /root/nltk_data...\n",
            "[nltk_data]   Package wordnet is already up-to-date!\n"
          ]
        }
      ]
    },
    {
      "cell_type": "code",
      "source": [
        "# Convert the tokenized text back to sentences\n",
        "final_df['text'] = final_df['text'].apply(lambda x: ' '.join(x))"
      ],
      "metadata": {
        "id": "pkzSPjTk-a5b"
      },
      "execution_count": 25,
      "outputs": []
    },
    {
      "cell_type": "code",
      "source": [
        "final_df['text'][0]"
      ],
      "metadata": {
        "colab": {
          "base_uri": "https://localhost:8080/",
          "height": 35
        },
        "id": "h6WbxW1G-l6O",
        "outputId": "bae57878-4f79-4d17-d44d-3345e32591bc"
      },
      "execution_count": 26,
      "outputs": [
        {
          "output_type": "execute_result",
          "data": {
            "text/plain": [
              "'château peyrabon barrel sample hautmédoc big extracted wine hard tannin firm tough'"
            ],
            "application/vnd.google.colaboratory.intrinsic+json": {
              "type": "string"
            }
          },
          "metadata": {},
          "execution_count": 26
        }
      ]
    },
    {
      "cell_type": "markdown",
      "source": [
        "**Convert the target column 'variety' to numeric using LabelEncoder:**"
      ],
      "metadata": {
        "id": "oQQwEOwF-9nZ"
      }
    },
    {
      "cell_type": "code",
      "source": [
        "label_encoder = LabelEncoder()\n",
        "final_df['variety_numeric'] = label_encoder.fit_transform(final_df['variety'])\n"
      ],
      "metadata": {
        "id": "vHqeCyZ9-teF"
      },
      "execution_count": 27,
      "outputs": []
    },
    {
      "cell_type": "code",
      "source": [
        "final_df.head()"
      ],
      "metadata": {
        "colab": {
          "base_uri": "https://localhost:8080/",
          "height": 237
        },
        "id": "38tTLx7b_CFo",
        "outputId": "b612efd4-4c0f-49e9-a124-e7d9a956d053"
      },
      "execution_count": 28,
      "outputs": [
        {
          "output_type": "execute_result",
          "data": {
            "text/plain": [
              "                                                                             text  \\\n",
              "variety                                                                             \n",
              "Bordeaux-style Red Blend 11190  château peyrabon barrel sample hautmédoc big e...   \n",
              "                         77250  coopergarrod test pilot ff hellcat red santa c...   \n",
              "                         26870  cadence tapteil vineyard red red mountainthis ...   \n",
              "                         31698  château bouscaut barrel sample pessacléognan b...   \n",
              "                         4295   babich patriarch premium red hawkes bayin mark...   \n",
              "\n",
              "                                                 variety  variety_numeric  \n",
              "variety                                                                    \n",
              "Bordeaux-style Red Blend 11190  Bordeaux-style Red Blend                0  \n",
              "                         77250  Bordeaux-style Red Blend                0  \n",
              "                         26870  Bordeaux-style Red Blend                0  \n",
              "                         31698  Bordeaux-style Red Blend                0  \n",
              "                         4295   Bordeaux-style Red Blend                0  "
            ],
            "text/html": [
              "\n",
              "\n",
              "  <div id=\"df-5d546367-b70c-4287-9591-6e53257a26c7\">\n",
              "    <div class=\"colab-df-container\">\n",
              "      <div>\n",
              "<style scoped>\n",
              "    .dataframe tbody tr th:only-of-type {\n",
              "        vertical-align: middle;\n",
              "    }\n",
              "\n",
              "    .dataframe tbody tr th {\n",
              "        vertical-align: top;\n",
              "    }\n",
              "\n",
              "    .dataframe thead th {\n",
              "        text-align: right;\n",
              "    }\n",
              "</style>\n",
              "<table border=\"1\" class=\"dataframe\">\n",
              "  <thead>\n",
              "    <tr style=\"text-align: right;\">\n",
              "      <th></th>\n",
              "      <th></th>\n",
              "      <th>text</th>\n",
              "      <th>variety</th>\n",
              "      <th>variety_numeric</th>\n",
              "    </tr>\n",
              "    <tr>\n",
              "      <th>variety</th>\n",
              "      <th></th>\n",
              "      <th></th>\n",
              "      <th></th>\n",
              "      <th></th>\n",
              "    </tr>\n",
              "  </thead>\n",
              "  <tbody>\n",
              "    <tr>\n",
              "      <th rowspan=\"5\" valign=\"top\">Bordeaux-style Red Blend</th>\n",
              "      <th>11190</th>\n",
              "      <td>château peyrabon barrel sample hautmédoc big e...</td>\n",
              "      <td>Bordeaux-style Red Blend</td>\n",
              "      <td>0</td>\n",
              "    </tr>\n",
              "    <tr>\n",
              "      <th>77250</th>\n",
              "      <td>coopergarrod test pilot ff hellcat red santa c...</td>\n",
              "      <td>Bordeaux-style Red Blend</td>\n",
              "      <td>0</td>\n",
              "    </tr>\n",
              "    <tr>\n",
              "      <th>26870</th>\n",
              "      <td>cadence tapteil vineyard red red mountainthis ...</td>\n",
              "      <td>Bordeaux-style Red Blend</td>\n",
              "      <td>0</td>\n",
              "    </tr>\n",
              "    <tr>\n",
              "      <th>31698</th>\n",
              "      <td>château bouscaut barrel sample pessacléognan b...</td>\n",
              "      <td>Bordeaux-style Red Blend</td>\n",
              "      <td>0</td>\n",
              "    </tr>\n",
              "    <tr>\n",
              "      <th>4295</th>\n",
              "      <td>babich patriarch premium red hawkes bayin mark...</td>\n",
              "      <td>Bordeaux-style Red Blend</td>\n",
              "      <td>0</td>\n",
              "    </tr>\n",
              "  </tbody>\n",
              "</table>\n",
              "</div>\n",
              "      <button class=\"colab-df-convert\" onclick=\"convertToInteractive('df-5d546367-b70c-4287-9591-6e53257a26c7')\"\n",
              "              title=\"Convert this dataframe to an interactive table.\"\n",
              "              style=\"display:none;\">\n",
              "\n",
              "  <svg xmlns=\"http://www.w3.org/2000/svg\" height=\"24px\"viewBox=\"0 0 24 24\"\n",
              "       width=\"24px\">\n",
              "    <path d=\"M0 0h24v24H0V0z\" fill=\"none\"/>\n",
              "    <path d=\"M18.56 5.44l.94 2.06.94-2.06 2.06-.94-2.06-.94-.94-2.06-.94 2.06-2.06.94zm-11 1L8.5 8.5l.94-2.06 2.06-.94-2.06-.94L8.5 2.5l-.94 2.06-2.06.94zm10 10l.94 2.06.94-2.06 2.06-.94-2.06-.94-.94-2.06-.94 2.06-2.06.94z\"/><path d=\"M17.41 7.96l-1.37-1.37c-.4-.4-.92-.59-1.43-.59-.52 0-1.04.2-1.43.59L10.3 9.45l-7.72 7.72c-.78.78-.78 2.05 0 2.83L4 21.41c.39.39.9.59 1.41.59.51 0 1.02-.2 1.41-.59l7.78-7.78 2.81-2.81c.8-.78.8-2.07 0-2.86zM5.41 20L4 18.59l7.72-7.72 1.47 1.35L5.41 20z\"/>\n",
              "  </svg>\n",
              "      </button>\n",
              "\n",
              "\n",
              "\n",
              "    <div id=\"df-04065c62-cea2-465d-b3de-dc6ce626f8f2\">\n",
              "      <button class=\"colab-df-quickchart\" onclick=\"quickchart('df-04065c62-cea2-465d-b3de-dc6ce626f8f2')\"\n",
              "              title=\"Suggest charts.\"\n",
              "              style=\"display:none;\">\n",
              "\n",
              "<svg xmlns=\"http://www.w3.org/2000/svg\" height=\"24px\"viewBox=\"0 0 24 24\"\n",
              "     width=\"24px\">\n",
              "    <g>\n",
              "        <path d=\"M19 3H5c-1.1 0-2 .9-2 2v14c0 1.1.9 2 2 2h14c1.1 0 2-.9 2-2V5c0-1.1-.9-2-2-2zM9 17H7v-7h2v7zm4 0h-2V7h2v10zm4 0h-2v-4h2v4z\"/>\n",
              "    </g>\n",
              "</svg>\n",
              "      </button>\n",
              "    </div>\n",
              "\n",
              "<style>\n",
              "  .colab-df-quickchart {\n",
              "    background-color: #E8F0FE;\n",
              "    border: none;\n",
              "    border-radius: 50%;\n",
              "    cursor: pointer;\n",
              "    display: none;\n",
              "    fill: #1967D2;\n",
              "    height: 32px;\n",
              "    padding: 0 0 0 0;\n",
              "    width: 32px;\n",
              "  }\n",
              "\n",
              "  .colab-df-quickchart:hover {\n",
              "    background-color: #E2EBFA;\n",
              "    box-shadow: 0px 1px 2px rgba(60, 64, 67, 0.3), 0px 1px 3px 1px rgba(60, 64, 67, 0.15);\n",
              "    fill: #174EA6;\n",
              "  }\n",
              "\n",
              "  [theme=dark] .colab-df-quickchart {\n",
              "    background-color: #3B4455;\n",
              "    fill: #D2E3FC;\n",
              "  }\n",
              "\n",
              "  [theme=dark] .colab-df-quickchart:hover {\n",
              "    background-color: #434B5C;\n",
              "    box-shadow: 0px 1px 3px 1px rgba(0, 0, 0, 0.15);\n",
              "    filter: drop-shadow(0px 1px 2px rgba(0, 0, 0, 0.3));\n",
              "    fill: #FFFFFF;\n",
              "  }\n",
              "</style>\n",
              "\n",
              "    <script>\n",
              "      async function quickchart(key) {\n",
              "        const containerElement = document.querySelector('#' + key);\n",
              "        const charts = await google.colab.kernel.invokeFunction(\n",
              "            'suggestCharts', [key], {});\n",
              "      }\n",
              "    </script>\n",
              "\n",
              "      <script>\n",
              "\n",
              "function displayQuickchartButton(domScope) {\n",
              "  let quickchartButtonEl =\n",
              "    domScope.querySelector('#df-04065c62-cea2-465d-b3de-dc6ce626f8f2 button.colab-df-quickchart');\n",
              "  quickchartButtonEl.style.display =\n",
              "    google.colab.kernel.accessAllowed ? 'block' : 'none';\n",
              "}\n",
              "\n",
              "        displayQuickchartButton(document);\n",
              "      </script>\n",
              "      <style>\n",
              "    .colab-df-container {\n",
              "      display:flex;\n",
              "      flex-wrap:wrap;\n",
              "      gap: 12px;\n",
              "    }\n",
              "\n",
              "    .colab-df-convert {\n",
              "      background-color: #E8F0FE;\n",
              "      border: none;\n",
              "      border-radius: 50%;\n",
              "      cursor: pointer;\n",
              "      display: none;\n",
              "      fill: #1967D2;\n",
              "      height: 32px;\n",
              "      padding: 0 0 0 0;\n",
              "      width: 32px;\n",
              "    }\n",
              "\n",
              "    .colab-df-convert:hover {\n",
              "      background-color: #E2EBFA;\n",
              "      box-shadow: 0px 1px 2px rgba(60, 64, 67, 0.3), 0px 1px 3px 1px rgba(60, 64, 67, 0.15);\n",
              "      fill: #174EA6;\n",
              "    }\n",
              "\n",
              "    [theme=dark] .colab-df-convert {\n",
              "      background-color: #3B4455;\n",
              "      fill: #D2E3FC;\n",
              "    }\n",
              "\n",
              "    [theme=dark] .colab-df-convert:hover {\n",
              "      background-color: #434B5C;\n",
              "      box-shadow: 0px 1px 3px 1px rgba(0, 0, 0, 0.15);\n",
              "      filter: drop-shadow(0px 1px 2px rgba(0, 0, 0, 0.3));\n",
              "      fill: #FFFFFF;\n",
              "    }\n",
              "  </style>\n",
              "\n",
              "      <script>\n",
              "        const buttonEl =\n",
              "          document.querySelector('#df-5d546367-b70c-4287-9591-6e53257a26c7 button.colab-df-convert');\n",
              "        buttonEl.style.display =\n",
              "          google.colab.kernel.accessAllowed ? 'block' : 'none';\n",
              "\n",
              "        async function convertToInteractive(key) {\n",
              "          const element = document.querySelector('#df-5d546367-b70c-4287-9591-6e53257a26c7');\n",
              "          const dataTable =\n",
              "            await google.colab.kernel.invokeFunction('convertToInteractive',\n",
              "                                                     [key], {});\n",
              "          if (!dataTable) return;\n",
              "\n",
              "          const docLinkHtml = 'Like what you see? Visit the ' +\n",
              "            '<a target=\"_blank\" href=https://colab.research.google.com/notebooks/data_table.ipynb>data table notebook</a>'\n",
              "            + ' to learn more about interactive tables.';\n",
              "          element.innerHTML = '';\n",
              "          dataTable['output_type'] = 'display_data';\n",
              "          await google.colab.output.renderOutput(dataTable, element);\n",
              "          const docLink = document.createElement('div');\n",
              "          docLink.innerHTML = docLinkHtml;\n",
              "          element.appendChild(docLink);\n",
              "        }\n",
              "      </script>\n",
              "    </div>\n",
              "  </div>\n"
            ]
          },
          "metadata": {},
          "execution_count": 28
        }
      ]
    },
    {
      "cell_type": "code",
      "source": [
        "final_df['variety_numeric'].unique()"
      ],
      "metadata": {
        "colab": {
          "base_uri": "https://localhost:8080/"
        },
        "id": "rw5j577m_EWe",
        "outputId": "07acb073-687d-4a1a-a3c0-d41e9137fb44"
      },
      "execution_count": 29,
      "outputs": [
        {
          "output_type": "execute_result",
          "data": {
            "text/plain": [
              "array([ 0,  1,  2,  3,  4,  5,  6,  7,  8,  9, 10, 11, 12, 13, 14, 15, 16,\n",
              "       17, 18, 19, 20, 21, 22, 23, 24, 25, 26, 27])"
            ]
          },
          "metadata": {},
          "execution_count": 29
        }
      ]
    },
    {
      "cell_type": "markdown",
      "source": [
        "**Create the feature matrix using CountVectorizer:**"
      ],
      "metadata": {
        "id": "iKwsGnmS_RI7"
      }
    },
    {
      "cell_type": "code",
      "source": [
        "count_vectorizer = CountVectorizer(max_features=5000)\n",
        "\n",
        "X = count_vectorizer.fit_transform(final_df['text'])\n",
        "\n",
        "Y=final_df['variety_numeric']\n"
      ],
      "metadata": {
        "id": "P_sB_Ub3_TrC"
      },
      "execution_count": 31,
      "outputs": []
    },
    {
      "cell_type": "code",
      "source": [
        "X.shape"
      ],
      "metadata": {
        "colab": {
          "base_uri": "https://localhost:8080/"
        },
        "id": "tSVLx5jNI6jo",
        "outputId": "636fbc4d-4e8b-440a-c4f7-15911cde8e98"
      },
      "execution_count": 32,
      "outputs": [
        {
          "output_type": "execute_result",
          "data": {
            "text/plain": [
              "(13656, 5000)"
            ]
          },
          "metadata": {},
          "execution_count": 32
        }
      ]
    },
    {
      "cell_type": "markdown",
      "source": [
        "**Train test split**"
      ],
      "metadata": {
        "id": "OA2FS0eCBrG2"
      }
    },
    {
      "cell_type": "code",
      "source": [
        "from sklearn.model_selection import train_test_split\n",
        "\n",
        "X_train, X_test, y_train, y_test = train_test_split(X,Y, test_size=0.2, random_state=18)\n"
      ],
      "metadata": {
        "id": "wUW25RTSAIX1"
      },
      "execution_count": 33,
      "outputs": []
    },
    {
      "cell_type": "markdown",
      "source": [
        "**Model Training and Evaluation:**"
      ],
      "metadata": {
        "id": "1AG8cGFeBG6F"
      }
    },
    {
      "cell_type": "markdown",
      "source": [
        "**1. Naive Bayes Classifier**"
      ],
      "metadata": {
        "id": "K2sW9krABL73"
      }
    },
    {
      "cell_type": "code",
      "source": [
        "from sklearn.naive_bayes import MultinomialNB\n",
        "from sklearn.metrics import accuracy_score, classification_report\n",
        "\n",
        "# Train the Naive Bayes model\n",
        "nb_model = MultinomialNB()\n",
        "nb_model.fit(X_train, y_train)\n",
        "\n",
        "# Make predictions on the test set\n",
        "nb_predictions = nb_model.predict(X_test)\n",
        "\n",
        "# Evaluate the model\n",
        "nb_accuracy = accuracy_score(y_test, nb_predictions)\n",
        "print(\"Naive Bayes Accuracy:\", nb_accuracy)\n",
        "\n",
        "# Classification report\n",
        "print(\" Naive Bayes Classifier Classification Report:\")\n",
        "nb_classification_report=classification_report(y_test, nb_predictions, target_names=label_encoder.classes_)\n",
        "print(nb_classification_report)\n"
      ],
      "metadata": {
        "colab": {
          "base_uri": "https://localhost:8080/"
        },
        "id": "YyZuIEGoAUST",
        "outputId": "a950ffb3-8058-440f-da1e-98dc7ff5a14c"
      },
      "execution_count": 34,
      "outputs": [
        {
          "output_type": "stream",
          "name": "stdout",
          "text": [
            "Naive Bayes Accuracy: 0.8543191800878477\n",
            " Naive Bayes Classifier Classification Report:\n",
            "                            precision    recall  f1-score   support\n",
            "\n",
            "  Bordeaux-style Red Blend       0.70      0.70      0.70       100\n",
            "Bordeaux-style White Blend       0.79      0.80      0.79        60\n",
            "            Cabernet Franc       0.93      0.72      0.81       107\n",
            "        Cabernet Sauvignon       0.80      0.87      0.84        93\n",
            "           Champagne Blend       0.85      0.93      0.88        95\n",
            "                Chardonnay       0.91      0.76      0.83       106\n",
            "                     Gamay       0.66      0.99      0.79       105\n",
            "            Gewürztraminer       0.97      0.92      0.94        96\n",
            "          Grüner Veltliner       0.95      0.98      0.96        94\n",
            "                    Malbec       0.85      0.78      0.81       108\n",
            "                    Merlot       0.83      0.73      0.78        94\n",
            "                  Nebbiolo       0.90      0.96      0.93        99\n",
            "              Pinot Grigio       1.00      0.96      0.98        68\n",
            "                Pinot Gris       0.96      0.96      0.96       110\n",
            "                Pinot Noir       0.92      0.82      0.87       100\n",
            "            Portuguese Red       0.94      1.00      0.97       101\n",
            "          Portuguese White       0.89      1.00      0.94        99\n",
            "                 Red Blend       0.67      0.44      0.53       104\n",
            "     Rhône-style Red Blend       0.80      0.90      0.85        90\n",
            "                  Riesling       0.95      0.89      0.92       113\n",
            "                      Rosé       0.83      0.86      0.84       107\n",
            "                Sangiovese       0.82      0.77      0.79        94\n",
            "           Sauvignon Blanc       0.90      0.87      0.88       101\n",
            "           Sparkling Blend       0.87      0.97      0.91        88\n",
            "                     Syrah       0.90      0.74      0.81       117\n",
            "               Tempranillo       0.76      0.90      0.82        90\n",
            "               White Blend       0.82      0.83      0.83        94\n",
            "                 Zinfandel       0.86      0.95      0.90        99\n",
            "\n",
            "                  accuracy                           0.85      2732\n",
            "                 macro avg       0.86      0.86      0.85      2732\n",
            "              weighted avg       0.86      0.85      0.85      2732\n",
            "\n"
          ]
        }
      ]
    },
    {
      "cell_type": "markdown",
      "source": [
        "**2. Support Vector Machine (SVM) Classifier:**"
      ],
      "metadata": {
        "id": "yKHDM7wDBVR3"
      }
    },
    {
      "cell_type": "code",
      "source": [
        "from sklearn.svm import SVC\n",
        "\n",
        "# Train the SVM model\n",
        "svm_model = SVC()\n",
        "svm_model.fit(X_train, y_train)\n",
        "\n",
        "# Make predictions on the test set\n",
        "svm_predictions = svm_model.predict(X_test)\n",
        "\n",
        "# Evaluate the model\n",
        "svm_accuracy = accuracy_score(y_test, svm_predictions)\n",
        "print(\"SVM Accuracy:\", svm_accuracy)\n",
        "\n",
        "# Classification report\n",
        "print(\"SVM Classification Report:\")\n",
        "svm_classification_report=classification_report(y_test, svm_predictions, target_names=label_encoder.classes_)\n",
        "print(svm_classification_report)\n"
      ],
      "metadata": {
        "colab": {
          "base_uri": "https://localhost:8080/"
        },
        "id": "itBRkMpLAZxy",
        "outputId": "cbb27bd8-a877-4b23-d085-e6631ce3818c"
      },
      "execution_count": 35,
      "outputs": [
        {
          "output_type": "stream",
          "name": "stdout",
          "text": [
            "SVM Accuracy: 0.9348462664714495\n",
            "SVM Classification Report:\n",
            "                            precision    recall  f1-score   support\n",
            "\n",
            "  Bordeaux-style Red Blend       0.83      0.84      0.84       100\n",
            "Bordeaux-style White Blend       0.83      0.73      0.78        60\n",
            "            Cabernet Franc       0.98      0.90      0.94       107\n",
            "        Cabernet Sauvignon       0.97      0.98      0.97        93\n",
            "           Champagne Blend       0.98      0.94      0.96        95\n",
            "                Chardonnay       0.92      0.92      0.92       106\n",
            "                     Gamay       0.82      0.98      0.90       105\n",
            "            Gewürztraminer       1.00      1.00      1.00        96\n",
            "          Grüner Veltliner       1.00      1.00      1.00        94\n",
            "                    Malbec       1.00      0.97      0.99       108\n",
            "                    Merlot       1.00      0.93      0.96        94\n",
            "                  Nebbiolo       0.95      0.96      0.95        99\n",
            "              Pinot Grigio       1.00      0.99      0.99        68\n",
            "                Pinot Gris       1.00      0.99      1.00       110\n",
            "                Pinot Noir       0.97      0.87      0.92       100\n",
            "            Portuguese Red       0.94      1.00      0.97       101\n",
            "          Portuguese White       0.95      1.00      0.98        99\n",
            "                 Red Blend       0.67      0.62      0.64       104\n",
            "     Rhône-style Red Blend       0.90      0.87      0.88        90\n",
            "                  Riesling       1.00      0.99      1.00       113\n",
            "                      Rosé       0.86      0.94      0.90       107\n",
            "                Sangiovese       0.92      0.94      0.93        94\n",
            "           Sauvignon Blanc       0.95      0.92      0.93       101\n",
            "           Sparkling Blend       0.97      1.00      0.98        88\n",
            "                     Syrah       0.98      0.93      0.96       117\n",
            "               Tempranillo       0.92      0.98      0.95        90\n",
            "               White Blend       0.88      0.97      0.92        94\n",
            "                 Zinfandel       0.98      0.98      0.98        99\n",
            "\n",
            "                  accuracy                           0.93      2732\n",
            "                 macro avg       0.93      0.93      0.93      2732\n",
            "              weighted avg       0.94      0.93      0.93      2732\n",
            "\n"
          ]
        }
      ]
    },
    {
      "cell_type": "markdown",
      "source": [
        "**3. Random Forest Classifier (with balanced dataset)**"
      ],
      "metadata": {
        "id": "o9zwV2zLgnet"
      }
    },
    {
      "cell_type": "code",
      "source": [
        "from sklearn.ensemble import RandomForestClassifier\n",
        "from sklearn.metrics import accuracy_score,classification_report\n",
        "\n",
        "# Train the Random Forest model\n",
        "rf_model = RandomForestClassifier()\n",
        "rf_model.fit(X_train, y_train)\n",
        "\n",
        "# Make predictions on the test set\n",
        "rf_predictions = rf_model.predict(X_test)\n",
        "\n",
        "# Evaluate the model\n",
        "from sklearn.metrics import accuracy_score,classification_report\n",
        "rf_accuracy = accuracy_score(y_test, rf_predictions)\n",
        "print(\"Random Forest Accuracy:\", rf_accuracy)\n",
        "\n",
        "# Classification report\n",
        "print(\"Random Forest Classifier Classification Report:\")\n",
        "rf_classification_report=classification_report(y_test, rf_predictions, target_names=label_encoder.classes_)\n",
        "print(rf_classification_report)"
      ],
      "metadata": {
        "colab": {
          "base_uri": "https://localhost:8080/"
        },
        "id": "5cVx3zOXghG-",
        "outputId": "54fc0305-3ad0-490e-921e-e4998e9d81b0"
      },
      "execution_count": 36,
      "outputs": [
        {
          "output_type": "stream",
          "name": "stdout",
          "text": [
            "Random Forest Accuracy: 0.9187408491947291\n",
            "Random Forest Classifier Classification Report:\n",
            "                            precision    recall  f1-score   support\n",
            "\n",
            "  Bordeaux-style Red Blend       0.84      0.76      0.80       100\n",
            "Bordeaux-style White Blend       0.79      0.77      0.78        60\n",
            "            Cabernet Franc       0.93      0.93      0.93       107\n",
            "        Cabernet Sauvignon       0.95      0.99      0.97        93\n",
            "           Champagne Blend       0.95      0.94      0.94        95\n",
            "                Chardonnay       0.88      0.88      0.88       106\n",
            "                     Gamay       0.78      0.99      0.87       105\n",
            "            Gewürztraminer       1.00      1.00      1.00        96\n",
            "          Grüner Veltliner       1.00      1.00      1.00        94\n",
            "                    Malbec       0.98      1.00      0.99       108\n",
            "                    Merlot       0.99      0.89      0.94        94\n",
            "                  Nebbiolo       0.90      0.95      0.92        99\n",
            "              Pinot Grigio       0.99      1.00      0.99        68\n",
            "                Pinot Gris       1.00      0.99      1.00       110\n",
            "                Pinot Noir       0.97      0.89      0.93       100\n",
            "            Portuguese Red       0.90      1.00      0.95       101\n",
            "          Portuguese White       0.93      1.00      0.96        99\n",
            "                 Red Blend       0.68      0.39      0.50       104\n",
            "     Rhône-style Red Blend       0.85      0.82      0.84        90\n",
            "                  Riesling       1.00      0.99      1.00       113\n",
            "                      Rosé       0.94      0.88      0.91       107\n",
            "                Sangiovese       0.86      0.94      0.90        94\n",
            "           Sauvignon Blanc       0.92      0.87      0.89       101\n",
            "           Sparkling Blend       0.92      1.00      0.96        88\n",
            "                     Syrah       0.96      0.94      0.95       117\n",
            "               Tempranillo       0.88      0.98      0.93        90\n",
            "               White Blend       0.90      0.91      0.91        94\n",
            "                 Zinfandel       0.96      1.00      0.98        99\n",
            "\n",
            "                  accuracy                           0.92      2732\n",
            "                 macro avg       0.92      0.92      0.91      2732\n",
            "              weighted avg       0.92      0.92      0.92      2732\n",
            "\n"
          ]
        }
      ]
    },
    {
      "cell_type": "markdown",
      "source": [
        "**Random Forest Classifier with imbalanced data:**\n",
        "\n",
        "As we know that Using techniques like Random Forest or boosting algorithms like AdaBoost can help handle imbalanced data effectively. I tried Random forest on imbalanced dataset. Below are the results I got."
      ],
      "metadata": {
        "id": "adJpM1OaBfEA"
      }
    },
    {
      "cell_type": "code",
      "source": [
        "# from sklearn.ensemble import RandomForestClassifier\n",
        "# from sklearn.metrics import accuracy_score,classification_report\n",
        "\n",
        "# # Train the Random Forest model\n",
        "# rf_model = RandomForestClassifier()\n",
        "# rf_model.fit(X_train, y_train)\n",
        "\n",
        "# # Make predictions on the test set\n",
        "# rf_predictions = rf_model.predict(X_test)\n",
        "\n",
        "# # Evaluate the model\n",
        "# from sklearn.metrics import accuracy_score,classification_report\n",
        "# rf_accuracy = accuracy_score(y_test, rf_predictions)\n",
        "# print(\"Random Forest Accuracy:\", rf_accuracy)\n",
        "\n",
        "# # Classification report\n",
        "# print(\"Random Forest Classifier Classification Report:\")\n",
        "# rf_classification_report=classification_report(y_test, rf_predictions, target_names=label_encoder.classes_)\n",
        "# print(rf_classification_report)"
      ],
      "metadata": {
        "colab": {
          "base_uri": "https://localhost:8080/"
        },
        "id": "9E6eP3Lxc5h-",
        "outputId": "70e4ff78-7cad-4dce-c835-a5789b269114"
      },
      "execution_count": 34,
      "outputs": [
        {
          "output_type": "stream",
          "name": "stdout",
          "text": [
            "Random Forest Accuracy: 0.905693950177936\n",
            "Random Forest Classifier Classification Report:\n",
            "                            precision    recall  f1-score   support\n",
            "\n",
            "  Bordeaux-style Red Blend       0.79      0.71      0.75       555\n",
            "Bordeaux-style White Blend       0.94      0.25      0.40        59\n",
            "            Cabernet Franc       0.96      0.56      0.70       126\n",
            "        Cabernet Sauvignon       0.90      0.98      0.94       940\n",
            "           Champagne Blend       0.95      0.83      0.89       202\n",
            "                Chardonnay       0.88      0.99      0.93      1270\n",
            "                     Gamay       0.98      0.60      0.75       131\n",
            "            Gewürztraminer       1.00      0.90      0.94       115\n",
            "          Grüner Veltliner       1.00      1.00      1.00       180\n",
            "                    Malbec       0.97      0.97      0.97       302\n",
            "                    Merlot       0.98      0.78      0.87       260\n",
            "                  Nebbiolo       0.92      0.90      0.91       377\n",
            "              Pinot Grigio       1.00      1.00      1.00        66\n",
            "                Pinot Gris       0.98      0.94      0.96       139\n",
            "                Pinot Noir       0.94      0.98      0.96      1610\n",
            "            Portuguese Red       0.92      0.97      0.94       395\n",
            "          Portuguese White       0.96      0.93      0.94       163\n",
            "                 Red Blend       0.73      0.89      0.81      1180\n",
            "     Rhône-style Red Blend       0.93      0.56      0.70       192\n",
            "                  Riesling       0.97      0.99      0.98       710\n",
            "                      Rosé       0.94      0.92      0.93       383\n",
            "                Sangiovese       0.95      0.61      0.74       257\n",
            "           Sauvignon Blanc       0.95      0.89      0.92       470\n",
            "           Sparkling Blend       0.94      0.96      0.95       350\n",
            "                     Syrah       0.97      0.93      0.95       462\n",
            "               Tempranillo       0.95      0.85      0.89       224\n",
            "               White Blend       0.97      0.79      0.87       351\n",
            "                 Zinfandel       0.98      0.97      0.98       333\n",
            "\n",
            "                  accuracy                           0.91     11802\n",
            "                 macro avg       0.94      0.84      0.88     11802\n",
            "              weighted avg       0.91      0.91      0.90     11802\n",
            "\n"
          ]
        }
      ]
    },
    {
      "cell_type": "markdown",
      "source": [
        "**Performance of Random Forest with imbalanced data:**\n",
        "\n",
        "* Accuracy: 091\n",
        "* Precision(avg): 0.94\n",
        "* Recall(avg): 0.91\n",
        "* F1 score(avg): 0.90\n",
        "\n",
        "The model's overall performance seems promising, with good accuracy, precision, recall, and F1 score.\n",
        "\n",
        "The high precision and recall values suggest that the model is performing well in correctly classifying instances of different wine varieties. It is effectively capturing both positive and negative instances."
      ],
      "metadata": {
        "id": "--ykwkIltNvw"
      }
    },
    {
      "cell_type": "markdown",
      "source": [
        "**Model Comparison:**"
      ],
      "metadata": {
        "id": "PKvRVouhIqHt"
      }
    },
    {
      "cell_type": "code",
      "source": [
        "# Model names and accuracies\n",
        "models = ['Naive Bayes', 'SVM', 'Random Forest']\n",
        "accuracies = [0.85, 0.93,0.91 ]\n",
        "\n",
        "# Extracted average metrics from the classification reports\n",
        "nb_avg_metrics = {\n",
        "    'Precision (avg)': 0.86,\n",
        "    'Recall (avg)': 0.85,\n",
        "    'F1-score (avg)': 0.85\n",
        "}\n",
        "\n",
        "svm_avg_metrics = {\n",
        "    'Precision (avg)': 0.94,\n",
        "    'Recall (avg)': 0.93,\n",
        "    'F1-score (avg)': 0.93\n",
        "}\n",
        "\n",
        "rf_avg_metrics = {\n",
        "    'Precision (avg)': 0.92,\n",
        "    'Recall (avg)': 0.92,\n",
        "    'F1-score (avg)': 0.92\n",
        "}\n",
        "\n",
        "# Create a DataFrame for model comparison\n",
        "data = {\n",
        "    'Model': models,\n",
        "    'Accuracy': accuracies,\n",
        "    'Precision (avg)': [nb_avg_metrics['Precision (avg)'], svm_avg_metrics['Precision (avg)'], rf_avg_metrics['Precision (avg)']],\n",
        "    'Recall (avg)': [nb_avg_metrics['Recall (avg)'], svm_avg_metrics['Recall (avg)'], rf_avg_metrics['Recall (avg)']],\n",
        "    'F1-score (avg)': [nb_avg_metrics['F1-score (avg)'], svm_avg_metrics['F1-score (avg)'], rf_avg_metrics['F1-score (avg)']]\n",
        "}\n",
        "\n",
        "model_comparison_df = pd.DataFrame(data)\n",
        "print(model_comparison_df)\n"
      ],
      "metadata": {
        "colab": {
          "base_uri": "https://localhost:8080/"
        },
        "id": "alHfPswSHhCu",
        "outputId": "723f47ab-bad8-4ae8-8e1b-2a6aa812bcd7"
      },
      "execution_count": 37,
      "outputs": [
        {
          "output_type": "stream",
          "name": "stdout",
          "text": [
            "           Model  Accuracy  Precision (avg)  Recall (avg)  F1-score (avg)\n",
            "0    Naive Bayes      0.85             0.86          0.85            0.85\n",
            "1            SVM      0.93             0.94          0.93            0.93\n",
            "2  Random Forest      0.91             0.92          0.92            0.92\n"
          ]
        }
      ]
    },
    {
      "cell_type": "markdown",
      "source": [
        "**custom prediction**"
      ],
      "metadata": {
        "id": "C1wSTnGgLahX"
      }
    },
    {
      "cell_type": "code",
      "source": [
        "new_sample_text = \"This wine has a rich and fruity taste with hints of cherry and vanilla. Cabernet Franc is becoming my favourite variety.\"\n",
        "\n",
        "# Convert the new sample text to a feature vector using the same CountVectorizer used in training\n",
        "# Make sure to preprocess the text in the same way as you did during training (lowercasing, removing stopwords, etc.)\n",
        "new_sample_features = count_vectorizer.transform([new_sample_text])\n",
        "\n",
        "# Make predictions using the trained Random Forest model\n",
        "prediction =nb_model.predict(new_sample_features)\n",
        "\n",
        "# Get the corresponding class label (if needed)\n",
        "class_label = label_encoder.inverse_transform(prediction)\n",
        "\n",
        "# Print the prediction\n",
        "print(\"Predicted Class:\", class_label[0])"
      ],
      "metadata": {
        "colab": {
          "base_uri": "https://localhost:8080/"
        },
        "id": "vDwvBK25IUTO",
        "outputId": "d3a008aa-4482-4e4a-c55e-830757d6f472"
      },
      "execution_count": 38,
      "outputs": [
        {
          "output_type": "stream",
          "name": "stdout",
          "text": [
            "Predicted Class: Cabernet Franc\n"
          ]
        }
      ]
    },
    {
      "cell_type": "markdown",
      "source": [
        "**Predictions using test.csv**"
      ],
      "metadata": {
        "id": "VHFQRilMvR6w"
      }
    },
    {
      "cell_type": "code",
      "source": [
        "test_data=pd.read_csv(\"/content/drive/MyDrive/test.csv\")"
      ],
      "metadata": {
        "id": "vumPdolaK8hx"
      },
      "execution_count": 46,
      "outputs": []
    },
    {
      "cell_type": "code",
      "source": [
        "test_data.shape"
      ],
      "metadata": {
        "colab": {
          "base_uri": "https://localhost:8080/"
        },
        "id": "Pi4B-DvQviGg",
        "outputId": "52c7f08c-1ad5-4766-e458-8bcf98b1ca41"
      },
      "execution_count": 47,
      "outputs": [
        {
          "output_type": "execute_result",
          "data": {
            "text/plain": [
              "(20665, 11)"
            ]
          },
          "metadata": {},
          "execution_count": 47
        }
      ]
    },
    {
      "cell_type": "code",
      "source": [
        "test_data.isnull().sum()"
      ],
      "metadata": {
        "colab": {
          "base_uri": "https://localhost:8080/"
        },
        "id": "z36TDjrRvlH3",
        "outputId": "f5926abb-ddd3-4c1e-c044-08eb4818c82f"
      },
      "execution_count": 48,
      "outputs": [
        {
          "output_type": "execute_result",
          "data": {
            "text/plain": [
              "user_name              4738\n",
              "country                   4\n",
              "review_title              0\n",
              "review_description        0\n",
              "designation            5989\n",
              "points                    0\n",
              "price                  1394\n",
              "province                  4\n",
              "region_1               3314\n",
              "region_2              11751\n",
              "winery                    0\n",
              "dtype: int64"
            ]
          },
          "metadata": {},
          "execution_count": 48
        }
      ]
    },
    {
      "cell_type": "markdown",
      "source": [
        "**Test data preprocessing and cleaning**"
      ],
      "metadata": {
        "id": "SG4Scw_R3IwX"
      }
    },
    {
      "cell_type": "code",
      "source": [
        "# Drop columns with a large number of missing values\n",
        "test_data.drop(columns=[\"user_name\", \"region_1\", \"region_2\",\"country\", \"province\",\"designation\"], inplace=True)\n",
        "\n",
        "# Fill missing values in \"price\" column with the mean value\n",
        "test_data[\"price\"].fillna(test_data[\"price\"].mean(), inplace=True)"
      ],
      "metadata": {
        "id": "bydGCXFVv_qC"
      },
      "execution_count": 49,
      "outputs": []
    },
    {
      "cell_type": "code",
      "source": [
        "test_data.isnull().sum()"
      ],
      "metadata": {
        "colab": {
          "base_uri": "https://localhost:8080/"
        },
        "id": "hmLY05BJwTb5",
        "outputId": "a32a1118-9cf9-4069-bdfb-73c590345c06"
      },
      "execution_count": 50,
      "outputs": [
        {
          "output_type": "execute_result",
          "data": {
            "text/plain": [
              "review_title          0\n",
              "review_description    0\n",
              "points                0\n",
              "price                 0\n",
              "winery                0\n",
              "dtype: int64"
            ]
          },
          "metadata": {},
          "execution_count": 50
        }
      ]
    },
    {
      "cell_type": "code",
      "source": [
        "test_df1=test_data['review_title']+test_data['review_description']"
      ],
      "metadata": {
        "id": "EnwcvzsNw2VT"
      },
      "execution_count": 51,
      "outputs": []
    },
    {
      "cell_type": "code",
      "source": [
        "final_test=pd.DataFrame({'text':test_df1})"
      ],
      "metadata": {
        "id": "6991d1iqxLia"
      },
      "execution_count": 55,
      "outputs": []
    },
    {
      "cell_type": "code",
      "source": [
        "final_test.head()"
      ],
      "metadata": {
        "colab": {
          "base_uri": "https://localhost:8080/",
          "height": 206
        },
        "id": "wSPFdUXDxSZo",
        "outputId": "5fc3585a-f50a-4148-d64c-3800a051ce87"
      },
      "execution_count": 56,
      "outputs": [
        {
          "output_type": "execute_result",
          "data": {
            "text/plain": [
              "                                                text\n",
              "0  Boedecker Cellars 2011 Athena Pinot Noir (Will...\n",
              "1  Mendoza Vineyards 2012 Gran Reserva by Richard...\n",
              "2  Prime 2013 Chardonnay (Coombsville)Slightly so...\n",
              "3  Bodega Cuarto Dominio 2012 Chento Vineyard Sel...\n",
              "4  SassodiSole 2012  Brunello di MontalcinoEarthy..."
            ],
            "text/html": [
              "\n",
              "\n",
              "  <div id=\"df-08696322-4335-4bc1-9857-07c2eaf0abc0\">\n",
              "    <div class=\"colab-df-container\">\n",
              "      <div>\n",
              "<style scoped>\n",
              "    .dataframe tbody tr th:only-of-type {\n",
              "        vertical-align: middle;\n",
              "    }\n",
              "\n",
              "    .dataframe tbody tr th {\n",
              "        vertical-align: top;\n",
              "    }\n",
              "\n",
              "    .dataframe thead th {\n",
              "        text-align: right;\n",
              "    }\n",
              "</style>\n",
              "<table border=\"1\" class=\"dataframe\">\n",
              "  <thead>\n",
              "    <tr style=\"text-align: right;\">\n",
              "      <th></th>\n",
              "      <th>text</th>\n",
              "    </tr>\n",
              "  </thead>\n",
              "  <tbody>\n",
              "    <tr>\n",
              "      <th>0</th>\n",
              "      <td>Boedecker Cellars 2011 Athena Pinot Noir (Will...</td>\n",
              "    </tr>\n",
              "    <tr>\n",
              "      <th>1</th>\n",
              "      <td>Mendoza Vineyards 2012 Gran Reserva by Richard...</td>\n",
              "    </tr>\n",
              "    <tr>\n",
              "      <th>2</th>\n",
              "      <td>Prime 2013 Chardonnay (Coombsville)Slightly so...</td>\n",
              "    </tr>\n",
              "    <tr>\n",
              "      <th>3</th>\n",
              "      <td>Bodega Cuarto Dominio 2012 Chento Vineyard Sel...</td>\n",
              "    </tr>\n",
              "    <tr>\n",
              "      <th>4</th>\n",
              "      <td>SassodiSole 2012  Brunello di MontalcinoEarthy...</td>\n",
              "    </tr>\n",
              "  </tbody>\n",
              "</table>\n",
              "</div>\n",
              "      <button class=\"colab-df-convert\" onclick=\"convertToInteractive('df-08696322-4335-4bc1-9857-07c2eaf0abc0')\"\n",
              "              title=\"Convert this dataframe to an interactive table.\"\n",
              "              style=\"display:none;\">\n",
              "\n",
              "  <svg xmlns=\"http://www.w3.org/2000/svg\" height=\"24px\"viewBox=\"0 0 24 24\"\n",
              "       width=\"24px\">\n",
              "    <path d=\"M0 0h24v24H0V0z\" fill=\"none\"/>\n",
              "    <path d=\"M18.56 5.44l.94 2.06.94-2.06 2.06-.94-2.06-.94-.94-2.06-.94 2.06-2.06.94zm-11 1L8.5 8.5l.94-2.06 2.06-.94-2.06-.94L8.5 2.5l-.94 2.06-2.06.94zm10 10l.94 2.06.94-2.06 2.06-.94-2.06-.94-.94-2.06-.94 2.06-2.06.94z\"/><path d=\"M17.41 7.96l-1.37-1.37c-.4-.4-.92-.59-1.43-.59-.52 0-1.04.2-1.43.59L10.3 9.45l-7.72 7.72c-.78.78-.78 2.05 0 2.83L4 21.41c.39.39.9.59 1.41.59.51 0 1.02-.2 1.41-.59l7.78-7.78 2.81-2.81c.8-.78.8-2.07 0-2.86zM5.41 20L4 18.59l7.72-7.72 1.47 1.35L5.41 20z\"/>\n",
              "  </svg>\n",
              "      </button>\n",
              "\n",
              "\n",
              "\n",
              "    <div id=\"df-8f7af8a8-f574-45b8-9a8a-1f84ed130081\">\n",
              "      <button class=\"colab-df-quickchart\" onclick=\"quickchart('df-8f7af8a8-f574-45b8-9a8a-1f84ed130081')\"\n",
              "              title=\"Suggest charts.\"\n",
              "              style=\"display:none;\">\n",
              "\n",
              "<svg xmlns=\"http://www.w3.org/2000/svg\" height=\"24px\"viewBox=\"0 0 24 24\"\n",
              "     width=\"24px\">\n",
              "    <g>\n",
              "        <path d=\"M19 3H5c-1.1 0-2 .9-2 2v14c0 1.1.9 2 2 2h14c1.1 0 2-.9 2-2V5c0-1.1-.9-2-2-2zM9 17H7v-7h2v7zm4 0h-2V7h2v10zm4 0h-2v-4h2v4z\"/>\n",
              "    </g>\n",
              "</svg>\n",
              "      </button>\n",
              "    </div>\n",
              "\n",
              "<style>\n",
              "  .colab-df-quickchart {\n",
              "    background-color: #E8F0FE;\n",
              "    border: none;\n",
              "    border-radius: 50%;\n",
              "    cursor: pointer;\n",
              "    display: none;\n",
              "    fill: #1967D2;\n",
              "    height: 32px;\n",
              "    padding: 0 0 0 0;\n",
              "    width: 32px;\n",
              "  }\n",
              "\n",
              "  .colab-df-quickchart:hover {\n",
              "    background-color: #E2EBFA;\n",
              "    box-shadow: 0px 1px 2px rgba(60, 64, 67, 0.3), 0px 1px 3px 1px rgba(60, 64, 67, 0.15);\n",
              "    fill: #174EA6;\n",
              "  }\n",
              "\n",
              "  [theme=dark] .colab-df-quickchart {\n",
              "    background-color: #3B4455;\n",
              "    fill: #D2E3FC;\n",
              "  }\n",
              "\n",
              "  [theme=dark] .colab-df-quickchart:hover {\n",
              "    background-color: #434B5C;\n",
              "    box-shadow: 0px 1px 3px 1px rgba(0, 0, 0, 0.15);\n",
              "    filter: drop-shadow(0px 1px 2px rgba(0, 0, 0, 0.3));\n",
              "    fill: #FFFFFF;\n",
              "  }\n",
              "</style>\n",
              "\n",
              "    <script>\n",
              "      async function quickchart(key) {\n",
              "        const containerElement = document.querySelector('#' + key);\n",
              "        const charts = await google.colab.kernel.invokeFunction(\n",
              "            'suggestCharts', [key], {});\n",
              "      }\n",
              "    </script>\n",
              "\n",
              "      <script>\n",
              "\n",
              "function displayQuickchartButton(domScope) {\n",
              "  let quickchartButtonEl =\n",
              "    domScope.querySelector('#df-8f7af8a8-f574-45b8-9a8a-1f84ed130081 button.colab-df-quickchart');\n",
              "  quickchartButtonEl.style.display =\n",
              "    google.colab.kernel.accessAllowed ? 'block' : 'none';\n",
              "}\n",
              "\n",
              "        displayQuickchartButton(document);\n",
              "      </script>\n",
              "      <style>\n",
              "    .colab-df-container {\n",
              "      display:flex;\n",
              "      flex-wrap:wrap;\n",
              "      gap: 12px;\n",
              "    }\n",
              "\n",
              "    .colab-df-convert {\n",
              "      background-color: #E8F0FE;\n",
              "      border: none;\n",
              "      border-radius: 50%;\n",
              "      cursor: pointer;\n",
              "      display: none;\n",
              "      fill: #1967D2;\n",
              "      height: 32px;\n",
              "      padding: 0 0 0 0;\n",
              "      width: 32px;\n",
              "    }\n",
              "\n",
              "    .colab-df-convert:hover {\n",
              "      background-color: #E2EBFA;\n",
              "      box-shadow: 0px 1px 2px rgba(60, 64, 67, 0.3), 0px 1px 3px 1px rgba(60, 64, 67, 0.15);\n",
              "      fill: #174EA6;\n",
              "    }\n",
              "\n",
              "    [theme=dark] .colab-df-convert {\n",
              "      background-color: #3B4455;\n",
              "      fill: #D2E3FC;\n",
              "    }\n",
              "\n",
              "    [theme=dark] .colab-df-convert:hover {\n",
              "      background-color: #434B5C;\n",
              "      box-shadow: 0px 1px 3px 1px rgba(0, 0, 0, 0.15);\n",
              "      filter: drop-shadow(0px 1px 2px rgba(0, 0, 0, 0.3));\n",
              "      fill: #FFFFFF;\n",
              "    }\n",
              "  </style>\n",
              "\n",
              "      <script>\n",
              "        const buttonEl =\n",
              "          document.querySelector('#df-08696322-4335-4bc1-9857-07c2eaf0abc0 button.colab-df-convert');\n",
              "        buttonEl.style.display =\n",
              "          google.colab.kernel.accessAllowed ? 'block' : 'none';\n",
              "\n",
              "        async function convertToInteractive(key) {\n",
              "          const element = document.querySelector('#df-08696322-4335-4bc1-9857-07c2eaf0abc0');\n",
              "          const dataTable =\n",
              "            await google.colab.kernel.invokeFunction('convertToInteractive',\n",
              "                                                     [key], {});\n",
              "          if (!dataTable) return;\n",
              "\n",
              "          const docLinkHtml = 'Like what you see? Visit the ' +\n",
              "            '<a target=\"_blank\" href=https://colab.research.google.com/notebooks/data_table.ipynb>data table notebook</a>'\n",
              "            + ' to learn more about interactive tables.';\n",
              "          element.innerHTML = '';\n",
              "          dataTable['output_type'] = 'display_data';\n",
              "          await google.colab.output.renderOutput(dataTable, element);\n",
              "          const docLink = document.createElement('div');\n",
              "          docLink.innerHTML = docLinkHtml;\n",
              "          element.appendChild(docLink);\n",
              "        }\n",
              "      </script>\n",
              "    </div>\n",
              "  </div>\n"
            ]
          },
          "metadata": {},
          "execution_count": 56
        }
      ]
    },
    {
      "cell_type": "code",
      "source": [
        "# Convert text to lowercase\n",
        "final_test['text'] = final_test['text'].str.lower()"
      ],
      "metadata": {
        "id": "a-IdQDG8ywui"
      },
      "execution_count": 57,
      "outputs": []
    },
    {
      "cell_type": "code",
      "source": [
        "# Remove punctuatio\n",
        "final_test['text'] =final_test['text'].apply(remove_punctuation)"
      ],
      "metadata": {
        "id": "N65vvLjxzs96"
      },
      "execution_count": 58,
      "outputs": []
    },
    {
      "cell_type": "code",
      "source": [
        "final_test['text'] = final_test['text'].apply(remove_numbers)"
      ],
      "metadata": {
        "id": "q2WWLnsQz3Sf"
      },
      "execution_count": 59,
      "outputs": []
    },
    {
      "cell_type": "code",
      "source": [
        "# Tokenize the text (split into words)\n",
        "final_test['text'] = final_test['text'].apply(lambda x: x.split())"
      ],
      "metadata": {
        "id": "giR7fIbMz-w-"
      },
      "execution_count": 60,
      "outputs": []
    },
    {
      "cell_type": "code",
      "source": [
        "# Remove stopwords\n",
        "stop_words = set(stopwords.words('english'))\n",
        "final_test['text'] = final_test['text'].apply(lambda x: [word for word in x if word not in stop_words])"
      ],
      "metadata": {
        "id": "tmM_6fY10GPy"
      },
      "execution_count": 61,
      "outputs": []
    },
    {
      "cell_type": "code",
      "source": [
        "final_test['text'] = final_test['text'].apply(lambda x: [lemmatizer.lemmatize(word) for word in x])"
      ],
      "metadata": {
        "id": "x8Lx7SHd0P0G"
      },
      "execution_count": 62,
      "outputs": []
    },
    {
      "cell_type": "code",
      "source": [
        "# Convert the tokenized text back to sentences\n",
        "final_test['text'] = final_test['text'].apply(lambda x: ' '.join(x))"
      ],
      "metadata": {
        "id": "4F4Ga7gJ0YDG"
      },
      "execution_count": 63,
      "outputs": []
    },
    {
      "cell_type": "code",
      "source": [
        "X_test = count_vectorizer.transform(final_test['text'])"
      ],
      "metadata": {
        "id": "64-99UVf0hdF"
      },
      "execution_count": 64,
      "outputs": []
    },
    {
      "cell_type": "code",
      "source": [
        "# Make predictions using the trained Random forest classifier\n",
        "predictions =rf_model.predict(X_test)\n"
      ],
      "metadata": {
        "id": "pgOK7qPN1KzE"
      },
      "execution_count": 68,
      "outputs": []
    },
    {
      "cell_type": "code",
      "source": [
        "predictions"
      ],
      "metadata": {
        "colab": {
          "base_uri": "https://localhost:8080/"
        },
        "id": "VZrvTM621XAg",
        "outputId": "25d7612f-54c8-4317-b297-3961646f5de7"
      },
      "execution_count": 69,
      "outputs": [
        {
          "output_type": "execute_result",
          "data": {
            "text/plain": [
              "array([14,  9,  5, ...,  3, 25,  3])"
            ]
          },
          "metadata": {},
          "execution_count": 69
        }
      ]
    },
    {
      "cell_type": "code",
      "source": [
        "predictions.shape"
      ],
      "metadata": {
        "colab": {
          "base_uri": "https://localhost:8080/"
        },
        "id": "ZMcfy_Yx2T7m",
        "outputId": "ec95d714-6413-460a-d376-1ca97880de7b"
      },
      "execution_count": 71,
      "outputs": [
        {
          "output_type": "execute_result",
          "data": {
            "text/plain": [
              "(20665,)"
            ]
          },
          "metadata": {},
          "execution_count": 71
        }
      ]
    },
    {
      "cell_type": "code",
      "source": [
        "# Add the predictions to the test_data DataFrame as a new column 'predicted_variety'\n",
        "test_data['predicted_variety'] = predictions\n",
        "\n",
        "# Save the predictions to a new CSV file\n",
        "test_data.to_csv('predictions.csv', index=False)"
      ],
      "metadata": {
        "id": "8v9_4TMf1aJA"
      },
      "execution_count": 70,
      "outputs": []
    },
    {
      "cell_type": "code",
      "source": [
        "from google.colab import files\n",
        "\n",
        "files.download('predictions.csv')"
      ],
      "metadata": {
        "colab": {
          "base_uri": "https://localhost:8080/",
          "height": 17
        },
        "id": "GGKoFUXg2X7o",
        "outputId": "25b4c16f-d705-41b7-919f-a6d49e90ce9b"
      },
      "execution_count": 72,
      "outputs": [
        {
          "output_type": "display_data",
          "data": {
            "text/plain": [
              "<IPython.core.display.Javascript object>"
            ],
            "application/javascript": [
              "\n",
              "    async function download(id, filename, size) {\n",
              "      if (!google.colab.kernel.accessAllowed) {\n",
              "        return;\n",
              "      }\n",
              "      const div = document.createElement('div');\n",
              "      const label = document.createElement('label');\n",
              "      label.textContent = `Downloading \"${filename}\": `;\n",
              "      div.appendChild(label);\n",
              "      const progress = document.createElement('progress');\n",
              "      progress.max = size;\n",
              "      div.appendChild(progress);\n",
              "      document.body.appendChild(div);\n",
              "\n",
              "      const buffers = [];\n",
              "      let downloaded = 0;\n",
              "\n",
              "      const channel = await google.colab.kernel.comms.open(id);\n",
              "      // Send a message to notify the kernel that we're ready.\n",
              "      channel.send({})\n",
              "\n",
              "      for await (const message of channel.messages) {\n",
              "        // Send a message to notify the kernel that we're ready.\n",
              "        channel.send({})\n",
              "        if (message.buffers) {\n",
              "          for (const buffer of message.buffers) {\n",
              "            buffers.push(buffer);\n",
              "            downloaded += buffer.byteLength;\n",
              "            progress.value = downloaded;\n",
              "          }\n",
              "        }\n",
              "      }\n",
              "      const blob = new Blob(buffers, {type: 'application/binary'});\n",
              "      const a = document.createElement('a');\n",
              "      a.href = window.URL.createObjectURL(blob);\n",
              "      a.download = filename;\n",
              "      div.appendChild(a);\n",
              "      a.click();\n",
              "      div.remove();\n",
              "    }\n",
              "  "
            ]
          },
          "metadata": {}
        },
        {
          "output_type": "display_data",
          "data": {
            "text/plain": [
              "<IPython.core.display.Javascript object>"
            ],
            "application/javascript": [
              "download(\"download_6d680a07-3029-4ce5-a3e1-d6506236bccf\", \"predictions.csv\", 6728464)"
            ]
          },
          "metadata": {}
        }
      ]
    },
    {
      "cell_type": "markdown",
      "source": [
        "**Thank you!**"
      ],
      "metadata": {
        "id": "a-tjbobN25PQ"
      }
    },
    {
      "cell_type": "code",
      "source": [],
      "metadata": {
        "id": "SKK-L4F12s9c"
      },
      "execution_count": null,
      "outputs": []
    }
  ]
}